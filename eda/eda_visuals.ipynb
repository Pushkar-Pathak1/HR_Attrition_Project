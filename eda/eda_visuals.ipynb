{
 "cells": [
  {
   "cell_type": "code",
   "execution_count": 3,
   "id": "69f45b9e-0a30-4b27-a0b7-9c48d5d816a3",
   "metadata": {},
   "outputs": [
    {
     "name": "stdout",
     "output_type": "stream",
     "text": [
      "Writing eda.py\n"
     ]
    }
   ],
   "source": [
    "%%writefile eda.py\n",
    "# eda/eda_visuals.py\n",
    "\n",
    "import pandas as pd\n",
    "import matplotlib.pyplot as plt\n",
    "import seaborn as sns\n",
    "\n",
    "# Load data\n",
    "df = pd.read_csv(\"data/HR_Employee_Attrition-1.csv\")\n",
    "\n",
    "# Attrition distribution\n",
    "plt.figure(figsize=(5, 4))\n",
    "sns.countplot(x='Attrition', data=df)\n",
    "plt.title(\"Attrition Count\")\n",
    "plt.savefig(\"eda/attrition_count.png\")\n",
    "plt.close()\n",
    "\n",
    "# Age distribution\n",
    "plt.figure(figsize=(6, 4))\n",
    "sns.histplot(df['Age'], kde=True)\n",
    "plt.title(\"Age Distribution\")\n",
    "plt.savefig(\"eda/age_distribution.png\")\n",
    "plt.close()\n",
    "\n",
    "# Attrition vs Job Role\n",
    "plt.figure(figsize=(10, 5))\n",
    "sns.countplot(x='JobRole', hue='Attrition', data=df)\n",
    "plt.title(\"Attrition by Job Role\")\n",
    "plt.xticks(rotation=45)\n",
    "plt.tight_layout()\n",
    "plt.savefig(\"eda/attrition_by_jobrole.png\")\n",
    "plt.close()\n",
    "\n",
    "# Correlation heatmap\n",
    "plt.figure(figsize=(12, 8))\n",
    "corr = df.select_dtypes(include='number').corr()\n",
    "sns.heatmap(corr, cmap=\"coolwarm\", annot=False)\n",
    "plt.title(\"Feature Correlation Heatmap\")\n",
    "plt.savefig(\"eda/correlation_heatmap.png\")\n",
    "plt.close()\n"
   ]
  },
  {
   "cell_type": "code",
   "execution_count": null,
   "id": "4887c582-1ce5-4b13-91a6-1d8c5d88ac8e",
   "metadata": {},
   "outputs": [],
   "source": []
  }
 ],
 "metadata": {
  "kernelspec": {
   "display_name": "Python [conda env:base] *",
   "language": "python",
   "name": "conda-base-py"
  },
  "language_info": {
   "codemirror_mode": {
    "name": "ipython",
    "version": 3
   },
   "file_extension": ".py",
   "mimetype": "text/x-python",
   "name": "python",
   "nbconvert_exporter": "python",
   "pygments_lexer": "ipython3",
   "version": "3.12.7"
  }
 },
 "nbformat": 4,
 "nbformat_minor": 5
}
