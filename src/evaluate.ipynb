{
 "cells": [
  {
   "cell_type": "code",
   "execution_count": 16,
   "id": "f9b021e2-f9ac-47ec-a5b2-d034ff55ffe2",
   "metadata": {},
   "outputs": [
    {
     "name": "stdout",
     "output_type": "stream",
     "text": [
      "Overwriting evaluate_model.py\n"
     ]
    }
   ],
   "source": [
    "%%writefile evaluate_model.py\n",
    "# src/evaluate_model.py\n",
    "\n",
    "import pickle\n",
    "import matplotlib.pyplot as plt\n",
    "import seaborn as sns\n",
    "import pandas as pd\n",
    "from sklearn.metrics import classification_report, confusion_matrix, roc_auc_score, roc_curve\n",
    "\n",
    "from preprocessing import load_data, get_features_target_preprocessor\n",
    "\n",
    "def main():\n",
    "    # Load pipeline\n",
    "    with open(\"models/pipeline.pkl\", \"rb\") as f:\n",
    "        pipeline = pickle.load(f)\n",
    "\n",
    "    # Fixed indentation here \n",
    "    df = load_data(\"data/HR_Employee_Attrition-1.csv\")\n",
    "    X, y, _ = get_features_target_preprocessor(df)\n",
    "\n",
    "    y_pred = pipeline.predict(X)\n",
    "    y_proba = pipeline.predict_proba(X)[:, 1]\n",
    "\n",
    "    # Confusion matrix\n",
    "    cm = confusion_matrix(y, y_pred)\n",
    "    sns.heatmap(cm, annot=True, fmt=\"d\", cmap=\"Blues\")\n",
    "    plt.title(\"Confusion Matrix\")\n",
    "    plt.xlabel(\"Predicted\")\n",
    "    plt.ylabel(\"Actual\")\n",
    "    plt.show()\n",
    "\n",
    "    print(\"Classification Report:\\n\")\n",
    "    print(classification_report(y, y_pred))\n",
    "\n",
    "    # ROC Curve\n",
    "    roc_auc = roc_auc_score(y, y_proba)\n",
    "    fpr, tpr, _ = roc_curve(y, y_proba)\n",
    "    plt.figure()\n",
    "    plt.plot(fpr, tpr, label=f'ROC curve (area = {roc_auc:.2f})', color='darkorange', lw=2)\n",
    "    plt.plot([0, 1], [0, 1], linestyle='--', color='navy')\n",
    "    plt.xlabel(\"False Positive Rate\")\n",
    "    plt.ylabel(\"True Positive Rate\")\n",
    "    plt.title(\"ROC Curve\")\n",
    "    plt.legend(loc=\"lower right\")\n",
    "    plt.show()\n",
    "\n",
    "   \n",
    "\n",
    "if __name__ == \"__main__\":\n",
    "    main()\n"
   ]
  },
  {
   "cell_type": "code",
   "execution_count": null,
   "id": "0e4bb77a-11b2-4ebe-9e12-bde008b27de9",
   "metadata": {},
   "outputs": [],
   "source": []
  },
  {
   "cell_type": "code",
   "execution_count": null,
   "id": "842bee77-72df-4a31-95ee-5244109f443a",
   "metadata": {},
   "outputs": [],
   "source": []
  },
  {
   "cell_type": "code",
   "execution_count": null,
   "id": "1b48d774-12e4-4236-a111-b45431039d51",
   "metadata": {},
   "outputs": [],
   "source": []
  },
  {
   "cell_type": "code",
   "execution_count": null,
   "id": "f39a1b17-3387-4fa2-8ede-673898526cf5",
   "metadata": {},
   "outputs": [],
   "source": []
  }
 ],
 "metadata": {
  "kernelspec": {
   "display_name": "Python [conda env:base] *",
   "language": "python",
   "name": "conda-base-py"
  },
  "language_info": {
   "codemirror_mode": {
    "name": "ipython",
    "version": 3
   },
   "file_extension": ".py",
   "mimetype": "text/x-python",
   "name": "python",
   "nbconvert_exporter": "python",
   "pygments_lexer": "ipython3",
   "version": "3.12.7"
  }
 },
 "nbformat": 4,
 "nbformat_minor": 5
}
