{
 "cells": [
  {
   "cell_type": "code",
   "execution_count": null,
   "id": "94fb5cea-f86f-4d9f-8711-a419dbb4670f",
   "metadata": {},
   "outputs": [],
   "source": [
    "%%writefile train_model.py\n",
    "# src/train_model.py\n",
    "\n",
    "import pickle\n",
    "from sklearn.ensemble import RandomForestClassifier\n",
    "from sklearn.model_selection import train_test_split, GridSearchCV\n",
    "from sklearn.pipeline import Pipeline\n",
    "from preprocessing import load_data, get_features_target_preprocessor\n",
    "from sklearn.metrics import accuracy_score\n",
    "\n",
    "def main():\n",
    "    df = load_data(\"data/HR_Employee_Attrition-1.csv\")\n",
    "    X, y, preprocessor = get_features_target_preprocessor(df)\n",
    "\n",
    "    x_train, x_test, y_train, y_test = train_test_split(\n",
    "        X, y, test_size=0.25, random_state=42, stratify=y)\n",
    "\n",
    "    pipeline = Pipeline([\n",
    "        ('preprocessor', preprocessor),\n",
    "        ('classifier', RandomForestClassifier(random_state=42))\n",
    "    ])\n",
    "\n",
    "    param_grid = {\n",
    "        'classifier__n_estimators': [100, 200],\n",
    "        'classifier__max_depth': [10, 20],\n",
    "        'classifier__min_samples_split': [2, 5]\n",
    "    }\n",
    "\n",
    "    grid_search = GridSearchCV(pipeline, param_grid, cv=5, scoring='accuracy', n_jobs=-1)\n",
    "    grid_search.fit(x_train, y_train)\n",
    "\n",
    "    print(\"Best Parameters:\", grid_search.best_params_)\n",
    "    print(\"Best CV Accuracy:\", grid_search.best_score_)\n",
    "\n",
    "    y_pred = grid_search.predict(x_test)\n",
    "    print(\"Test Accuracy:\", accuracy_score(y_test, y_pred))\n",
    "\n",
    "    with open(\"../models/pipeline.pkl\", \"wb\") as f:\n",
    "        pickle.dump(grid_search.best_estimator_, f)\n",
    "    print(\"Saved pipeline to models/pipeline.pkl\")\n",
    "\n",
    "if __name__ == \"__main__\":\n",
    "    main()\n"
   ]
  },
  {
   "cell_type": "code",
   "execution_count": null,
   "id": "f3dcbd70-5a1e-4194-88fa-f1f4065461b4",
   "metadata": {},
   "outputs": [],
   "source": []
  },
  {
   "cell_type": "code",
   "execution_count": null,
   "id": "f08ae82d-16bc-4de2-ad7f-8c266fa1866c",
   "metadata": {},
   "outputs": [],
   "source": []
  }
 ],
 "metadata": {
  "kernelspec": {
   "display_name": "Python [conda env:base] *",
   "language": "python",
   "name": "conda-base-py"
  },
  "language_info": {
   "codemirror_mode": {
    "name": "ipython",
    "version": 3
   },
   "file_extension": ".py",
   "mimetype": "text/x-python",
   "name": "python",
   "nbconvert_exporter": "python",
   "pygments_lexer": "ipython3",
   "version": "3.12.7"
  }
 },
 "nbformat": 4,
 "nbformat_minor": 5
}
